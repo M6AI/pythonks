{
 "cells": [
  {
   "cell_type": "markdown",
   "id": "842b0185",
   "metadata": {},
   "source": [
    "# PyTorch Fundamentals\n",
    "\n",
    "This notebook closely follows the material available at learnpytorch.io [[1]](https://www.learnpytorch.io/) with occassional refactoring and extension for consistency of style and to make connections with other parts of the package. It is also more extensive on examples and does less revisit of lower level concepts once discussed."
   ]
  },
  {
   "cell_type": "markdown",
   "id": "9341d017",
   "metadata": {},
   "source": [
    "### About PyTorch\n",
    "\n",
    "PyTorch is an open source machine and/or, depending on accepted classification, deep learning framework with a highly optimized tensor workflow using both CPU and GPU for computation. It is widely used both in industry and academia, and, as of 2022, it is the most used deep learning framework on Papers with Code [[2]](https://paperswithcode.com/trends). Its design philosophy is based around the following principles.\n",
    "- Usability over performance\n",
    "- Simple over easy\n",
    "- Python first with best in class language interoperability"
   ]
  },
  {
   "cell_type": "markdown",
   "id": "6e560231",
   "metadata": {},
   "source": [
    "### Install PyTorch and confirm version\n",
    "\n",
    "The recommended way to install PyTorch in a virtual environment and CUDA 11.7 support is the following.\n",
    "\n",
    "`pip install torch torchvision torchaudio --index-url https://download.pytorch.org/whl/cu117`\n",
    "\n",
    "The version of `torch` references both the PyTorch version and the linked CUDA installation."
   ]
  },
  {
   "cell_type": "code",
   "execution_count": 1,
   "id": "a22c208f",
   "metadata": {},
   "outputs": [
    {
     "name": "stdout",
     "output_type": "stream",
     "text": [
      "2.0.0+cu117\n"
     ]
    }
   ],
   "source": [
    "import torch\n",
    "print(torch.__version__)"
   ]
  },
  {
   "cell_type": "markdown",
   "id": "9e45617f",
   "metadata": {},
   "source": [
    "In order to check if there is an Nvidia GPU, we can run the `nvidia_smi` command on the command line. From within the notebook we can achieve the same by prefixing it with a bang `!`."
   ]
  },
  {
   "cell_type": "code",
   "execution_count": 2,
   "id": "71720d12",
   "metadata": {},
   "outputs": [
    {
     "name": "stdout",
     "output_type": "stream",
     "text": [
      "Sun Mar 26 10:53:43 2023       \n",
      "+---------------------------------------------------------------------------------------+\n",
      "| NVIDIA-SMI 531.41                 Driver Version: 531.41       CUDA Version: 12.1     |\n",
      "|-----------------------------------------+----------------------+----------------------+\n",
      "| GPU  Name                      TCC/WDDM | Bus-Id        Disp.A | Volatile Uncorr. ECC |\n",
      "| Fan  Temp  Perf            Pwr:Usage/Cap|         Memory-Usage | GPU-Util  Compute M. |\n",
      "|                                         |                      |               MIG M. |\n",
      "|=========================================+======================+======================|\n",
      "|   0  NVIDIA GeForce GTX 1050 Ti    WDDM | 00000000:01:00.0 Off |                  N/A |\n",
      "| N/A   34C    P3               N/A /  N/A|      0MiB /  4096MiB |      1%      Default |\n",
      "|                                         |                      |                  N/A |\n",
      "+-----------------------------------------+----------------------+----------------------+\n",
      "                                                                                         \n",
      "+---------------------------------------------------------------------------------------+\n",
      "| Processes:                                                                            |\n",
      "|  GPU   GI   CI        PID   Type   Process name                            GPU Memory |\n",
      "|        ID   ID                                                             Usage      |\n",
      "|=======================================================================================|\n",
      "|  No running processes found                                                           |\n",
      "+---------------------------------------------------------------------------------------+\n"
     ]
    }
   ],
   "source": [
    "!nvidia-smi"
   ]
  },
  {
   "cell_type": "markdown",
   "id": "f8e58d8b",
   "metadata": {},
   "source": [
    "**Note.** If the CUDA version listed differs from the one that shipped with the PyTorch binaries, then it may not necessarily be a problem. For instance, 11.7 version coming with PyTorch will be able to work with 12.1 on the GPU side. *This was tested with an NVIDIA GeForce GTX 1050 Ti 4GB GPU and driver version of 531.41.*"
   ]
  },
  {
   "cell_type": "markdown",
   "id": "746624f4",
   "metadata": {},
   "source": [
    "Cuda availability can be checked explicitly leaving it open to make the usage of the GPU conditional."
   ]
  },
  {
   "cell_type": "code",
   "execution_count": 3,
   "id": "a2df134e",
   "metadata": {},
   "outputs": [
    {
     "data": {
      "text/plain": [
       "True"
      ]
     },
     "execution_count": 3,
     "metadata": {},
     "output_type": "execute_result"
    }
   ],
   "source": [
    "torch.cuda.is_available()"
   ]
  },
  {
   "cell_type": "markdown",
   "id": "0f0beeb5",
   "metadata": {},
   "source": [
    "### Tensors\n",
    "\n",
    "Tensors are higher-order generalizations of vector and matrix concepts and as such are implemented using the abstraction of higher-dimensional arrays. An object $T$ is called an $n$-order or $n$-dimensional tensor if there are vector spaces $V_i$ of dimensions $d_i$ for $i = 0, 1, \\dots, n - 1$ such that\n",
    "\n",
    "$$\n",
    "T = V_0 \\times V_1 \\times \\dots \\times V_{n - 1}\n",
    "$$\n",
    "\n",
    "In PyTorch, the vector spaces have finitely many elements by nature (finiteness of representation) and can correspond to one of the supported data types."
   ]
  },
  {
   "cell_type": "code",
   "execution_count": 4,
   "id": "8424b86e",
   "metadata": {},
   "outputs": [],
   "source": [
    "torch_types = {\n",
    "    \"32-bit floating point\": (torch.float32, torch.float),\n",
    "    \"64-bit floating point\": (torch.float64, torch.double),\n",
    "    \"64-bit complex\": (torch.complex64, torch.cfloat),\n",
    "    \"128-bit complex\": (torch.complex128, torch.cdouble),\n",
    "    \"16-bit floating point (1 sign, 5 exponents, 10 significand )\": (torch.float16, torch.half),\n",
    "    \"16-bit Brain floating point (1 sign, 8 exponent, 7 significand)\": (torch.bfloat16,),\n",
    "    \"8-bit integer (unsigned)\": (torch.uint8,),\n",
    "    \"8-bit integer (signed)\": (torch.int8,),\n",
    "    \"16-bit integer (signed)\": (torch.int16, torch.short),\n",
    "    \"32-bit integer (signed)\": (torch.int32, torch.int),\n",
    "    \"64-bit integer (signed)\": (torch.int64, torch.long),\n",
    "    \"Boolean\": torch.bool,\n",
    "}"
   ]
  },
  {
   "cell_type": "markdown",
   "id": "b99cb1eb",
   "metadata": {},
   "source": [
    "Perhaps not surprisingly, standard nested `list` objects that respect the homogeneous shape requirements, can be used to construct the first `Tensor` examples."
   ]
  },
  {
   "cell_type": "code",
   "execution_count": 5,
   "id": "af5df745",
   "metadata": {},
   "outputs": [
    {
     "name": "stdout",
     "output_type": "stream",
     "text": [
      "tensor([1, 0])\n",
      "\n",
      "\ttensor of type torch.int64\n",
      "\n",
      "tensor([[0., 1.],\n",
      "        [1., 0.]])\n",
      "\n",
      "\ttensor of type torch.float32\n",
      "\n",
      "tensor([[[ True, False],\n",
      "         [False,  True]],\n",
      "\n",
      "        [[ True,  True],\n",
      "         [False, False]]])\n",
      "\n",
      "\ttensor of type torch.bool\n",
      "\n"
     ]
    }
   ],
   "source": [
    "vector = torch.tensor([1, 0])\n",
    "matrix = torch.tensor(\n",
    "    [\n",
    "        [0., 1.],\n",
    "        [1., 0.],\n",
    "    ]\n",
    ")\n",
    "tensor = torch.tensor(\n",
    "    [\n",
    "        [\n",
    "            [True, False],\n",
    "            [False, True],\n",
    "        ],\n",
    "        [\n",
    "            [True, True],\n",
    "            [False, False],\n",
    "        ]\n",
    "    ]\n",
    ")\n",
    "for t in [vector, matrix, tensor]:\n",
    "    print(f\"{t}\\n\\n\\ttensor of type {t.dtype}\\n\")"
   ]
  },
  {
   "cell_type": "markdown",
   "id": "6f217993",
   "metadata": {},
   "source": [
    "**Note.** Above examples also show the default `dtype` chosen for Python types."
   ]
  },
  {
   "cell_type": "markdown",
   "id": "03d3fb1d",
   "metadata": {},
   "source": [
    "PyTorch supports not-a-number values in the form of `float(\"nan\")` and also positive and negative infinite values `float(\"Inf\")` and `float(\"-Inf\")`, respectively.\n",
    "It worth mentioning that the Boolean type in PyTorch is not nulleable, NaN values are considered `True`."
   ]
  },
  {
   "cell_type": "code",
   "execution_count": 6,
   "id": "8bb5b497",
   "metadata": {},
   "outputs": [
    {
     "data": {
      "text/plain": [
       "tensor([True, True, True])"
      ]
     },
     "execution_count": 6,
     "metadata": {},
     "output_type": "execute_result"
    }
   ],
   "source": [
    "torch.tensor([float(item) for item in [\"nan\", \"Inf\", \"-Inf\"]], dtype=torch.bool)"
   ]
  },
  {
   "cell_type": "markdown",
   "id": "3b2baedf",
   "metadata": {},
   "source": [
    "In mathematics, the most straighforward explanation of a tensor would be a multilinear mapping. However, in PyTorch, tensors are meant to be understood more as real world inputs mapped onto supported data types, at least initially. For example, a 2 by 2 pixels image can be  considered as a tensor of order 3 over integer-type domains of dimensions 2, 2, and 3, where the first and second orders with dimension 2 each stand for the height and the width, respectively, and the third order of dimension 3 reflects the color channel (RGB)."
   ]
  },
  {
   "cell_type": "code",
   "execution_count": 7,
   "id": "d7d23243",
   "metadata": {},
   "outputs": [
    {
     "data": {
      "text/plain": [
       "torch.Size([2, 2, 3])"
      ]
     },
     "execution_count": 7,
     "metadata": {},
     "output_type": "execute_result"
    }
   ],
   "source": [
    "image = torch.tensor(\n",
    "    [\n",
    "        [\n",
    "            [0.1, 0.2, 0.3],  # RGB of pixel (0, 0)\n",
    "            [0.2, 0.2, 0.3],  # RGB of pixel (0, 1)\n",
    "        ],\n",
    "        [\n",
    "            [0.4, 0.5, 0.5],  # RGB of pixel (1, 0)\n",
    "            [0.5, 0.6, 0.6],  # RGB of pixel (1, 1)\n",
    "        ]\n",
    "    ]\n",
    ")\n",
    "image.shape"
   ]
  },
  {
   "cell_type": "markdown",
   "id": "462d1dde",
   "metadata": {},
   "source": [
    "### Deterministic tensor constructors"
   ]
  },
  {
   "cell_type": "markdown",
   "id": "10c4848f",
   "metadata": {},
   "source": [
    "Let us begin with the convention that scalars are thought of as tensors of dimension 0 rather than dimension 1 over any of the allowed domains."
   ]
  },
  {
   "cell_type": "code",
   "execution_count": 7,
   "id": "22293205",
   "metadata": {},
   "outputs": [
    {
     "name": "stdout",
     "output_type": "stream",
     "text": [
      "0 is an object <class 'torch.Tensor'> of dimension 0\n"
     ]
    }
   ],
   "source": [
    "scalar = torch.tensor(0)\n",
    "print(f\"{scalar} is an object {type(scalar)} of dimension {scalar.ndim}\")"
   ]
  },
  {
   "cell_type": "markdown",
   "id": "d654b9f8",
   "metadata": {},
   "source": [
    "We have already seen the conversion of Python types into tensors by means of `torch.tensor`. This is fairly inefficient due to the performance of Python objects and also rarely needed as under normal circumstances inputs are flowing in through I/O streams. We may additionally need to create tensors of special forms to supplement the flow of computation."
   ]
  },
  {
   "cell_type": "code",
   "execution_count": 8,
   "id": "a8707723",
   "metadata": {},
   "outputs": [
    {
     "name": "stdout",
     "output_type": "stream",
     "text": [
      "tensor([[0., 0.],\n",
      "        [0., 0.]])\n"
     ]
    }
   ],
   "source": [
    "zeros = torch.zeros((2, 2))\n",
    "print(zeros)"
   ]
  },
  {
   "cell_type": "code",
   "execution_count": 9,
   "id": "f641e13c",
   "metadata": {},
   "outputs": [
    {
     "name": "stdout",
     "output_type": "stream",
     "text": [
      "tensor([[[1.],\n",
      "         [1.]],\n",
      "\n",
      "        [[1.],\n",
      "         [1.]],\n",
      "\n",
      "        [[1.],\n",
      "         [1.]]])\n"
     ]
    }
   ],
   "source": [
    "ones = torch.ones((3, 2, 1))\n",
    "print(ones)"
   ]
  },
  {
   "cell_type": "code",
   "execution_count": 10,
   "id": "9e33c433",
   "metadata": {},
   "outputs": [
    {
     "name": "stdout",
     "output_type": "stream",
     "text": [
      "tensor([[[ 0,  1,  2,  3,  4],\n",
      "         [ 5,  6,  7,  8,  9],\n",
      "         [10, 11, 12, 13, 14]],\n",
      "\n",
      "        [[15, 16, 17, 18, 19],\n",
      "         [20, 21, 22, 23, 24],\n",
      "         [25, 26, 27, 28, 29]]])\n"
     ]
    }
   ],
   "source": [
    "arith_range = torch.arange(30).reshape(2, 3, 5)\n",
    "print(arith_range)"
   ]
  },
  {
   "cell_type": "code",
   "execution_count": 11,
   "id": "15eed38a",
   "metadata": {},
   "outputs": [
    {
     "name": "stdout",
     "output_type": "stream",
     "text": [
      "tensor([[0., 1., 2., 3., 4.],\n",
      "        [5., 6., 7., 8., 9.]])\n"
     ]
    }
   ],
   "source": [
    "equispaced = torch.linspace(0, 9, 10).reshape(2, 5)\n",
    "print(equispaced)"
   ]
  },
  {
   "cell_type": "code",
   "execution_count": 12,
   "id": "fdaead2c",
   "metadata": {},
   "outputs": [
    {
     "name": "stdout",
     "output_type": "stream",
     "text": [
      "tensor([[ 1.0000,  1.2915,  1.6681,  2.1544,  2.7826],\n",
      "        [ 3.5938,  4.6416,  5.9948,  7.7426, 10.0000]])\n"
     ]
    }
   ],
   "source": [
    "equiscaled = torch.logspace(0, 1, 10).reshape(2, 5)\n",
    "print(equiscaled)"
   ]
  },
  {
   "cell_type": "markdown",
   "id": "b77ed28b",
   "metadata": {},
   "source": [
    "### Tensor algebra\n",
    "\n",
    "Tensors generalize matrices not only in terms of representation, but also in terms of operations defined for them. PyTorch tensors support pointwise addition, subtraction, multiplication, and division. Also, as expected from vectors spaces, they support scalar multiplication, matrix multiplication along axes of identical dimensions, and also implement the transpose operation."
   ]
  },
  {
   "cell_type": "code",
   "execution_count": 14,
   "id": "b23b0b32",
   "metadata": {},
   "outputs": [
    {
     "name": "stdout",
     "output_type": "stream",
     "text": [
      "Transponent of\n",
      "tensor([[1., 1.],\n",
      "        [1., 1.],\n",
      "        [1., 1.]])\n",
      "  is:\n",
      "tensor([[1., 1., 1.],\n",
      "        [1., 1., 1.]])\n",
      "\n",
      "Sum of\n",
      "tensor([[0., 0., 0.],\n",
      "        [0., 0., 0.]])\n",
      "  and\n",
      "tensor([[1., 1., 1.],\n",
      "        [1., 1., 1.]])\n",
      "  is:\n",
      "tensor([[1., 1., 1.],\n",
      "        [1., 1., 1.]])\n",
      "\n",
      "Difference of\n",
      "tensor([[0., 0., 0.],\n",
      "        [0., 0., 0.]])\n",
      "  and\n",
      "tensor([[1., 1., 1.],\n",
      "        [1., 1., 1.]])\n",
      "  is:\n",
      "tensor([[-1., -1., -1.],\n",
      "        [-1., -1., -1.]])\n",
      "\n",
      "Pointwise product of\n",
      "tensor([[0., 0., 0.],\n",
      "        [0., 0., 0.]])\n",
      "  and\n",
      "tensor([[1., 1., 1.],\n",
      "        [1., 1., 1.]])\n",
      "  is:\n",
      "tensor([[0., 0., 0.],\n",
      "        [0., 0., 0.]])\n",
      "\n",
      "Pointwise quotient of\n",
      "tensor([[0., 0., 0.],\n",
      "        [0., 0., 0.]])\n",
      "  and\n",
      "tensor([[1., 1., 1.],\n",
      "        [1., 1., 1.]])\n",
      "  is:\n",
      "tensor([[0., 0., 0.],\n",
      "        [0., 0., 0.]])\n",
      "\n",
      "Double of\n",
      "tensor([[1., 1.],\n",
      "        [1., 1.],\n",
      "        [1., 1.]])\n",
      "  is:\n",
      "tensor([[2., 2.],\n",
      "        [2., 2.],\n",
      "        [2., 2.]])\n",
      "\n",
      "Matrix product of\n",
      "tensor([[0., 0., 0.],\n",
      "        [0., 0., 0.]])\n",
      "  and\n",
      "tensor([[1., 1.],\n",
      "        [1., 1.],\n",
      "        [1., 1.]])\n",
      "  is:\n",
      "tensor([[0., 0.],\n",
      "        [0., 0.]]))\n"
     ]
    }
   ],
   "source": [
    "zeros = torch.zeros((2, 3))\n",
    "ones = torch.ones((3, 2))\n",
    "transponent = ones.t()\n",
    "print(f\"Transponent of\\n{ones}\\n  is:\\n{transponent}\")\n",
    "print()\n",
    "print(f\"Sum of\\n{zeros}\\n  and\\n{transponent}\\n  is:\\n{zeros + transponent}\")\n",
    "print()\n",
    "print(f\"Difference of\\n{zeros}\\n  and\\n{transponent}\\n  is:\\n{zeros - transponent}\")\n",
    "print()\n",
    "print(f\"Pointwise product of\\n{zeros}\\n  and\\n{transponent}\\n  is:\\n{zeros * transponent}\")\n",
    "print()\n",
    "print(f\"Pointwise quotient of\\n{zeros}\\n  and\\n{transponent}\\n  is:\\n{zeros / transponent}\")\n",
    "print()\n",
    "print(f\"Double of\\n{ones}\\n  is:\\n{2 * ones}\")\n",
    "print()\n",
    "print(f\"Matrix product of\\n{zeros}\\n  and\\n{ones}\\n  is:\\n{torch.matmul(zeros, ones)})\")"
   ]
  },
  {
   "cell_type": "markdown",
   "id": "9c2f0a1a",
   "metadata": {},
   "source": [
    "Basic concepts of determinant and matrix inversion are also lifted to their higher dimensional analogues."
   ]
  },
  {
   "cell_type": "code",
   "execution_count": 15,
   "id": "1d681703",
   "metadata": {},
   "outputs": [
    {
     "name": "stdout",
     "output_type": "stream",
     "text": [
      "(Hyper)determinant of\n",
      "tensor([[[[0.0000, 0.0667],\n",
      "          [0.1333, 0.2000]],\n",
      "\n",
      "         [[0.2667, 0.3333],\n",
      "          [0.4000, 0.4667]]],\n",
      "\n",
      "\n",
      "        [[[0.5333, 0.6000],\n",
      "          [0.6667, 0.7333]],\n",
      "\n",
      "         [[0.8000, 0.8667],\n",
      "          [0.9333, 1.0000]]]])\n",
      "  is:\n",
      "tensor([[-0.0089, -0.0089],\n",
      "        [-0.0089, -0.0089]])\n",
      "\n",
      "Inverse of\n",
      "tensor([[[[0.0000, 0.0667],\n",
      "          [0.1333, 0.2000]],\n",
      "\n",
      "         [[0.2667, 0.3333],\n",
      "          [0.4000, 0.4667]]],\n",
      "\n",
      "\n",
      "        [[[0.5333, 0.6000],\n",
      "          [0.6667, 0.7333]],\n",
      "\n",
      "         [[0.8000, 0.8667],\n",
      "          [0.9333, 1.0000]]]])\n",
      "  is:\n",
      "tensor([[[[ -22.5000,    7.5000],\n",
      "          [  15.0000,    0.0000]],\n",
      "\n",
      "         [[ -52.5000,   37.5000],\n",
      "          [  45.0000,  -30.0000]]],\n",
      "\n",
      "\n",
      "        [[[ -82.5003,   67.5003],\n",
      "          [  75.0003,  -60.0002]],\n",
      "\n",
      "         [[-112.4994,   97.4994],\n",
      "          [ 104.9994,  -89.9995]]]])\n"
     ]
    }
   ],
   "source": [
    "tensor = torch.linspace(0, 1, 16).reshape(2, 2, 2, 2)\n",
    "print(f\"(Hyper)determinant of\\n{tensor}\\n  is:\\n{tensor.det()}\")\n",
    "print()\n",
    "print(f\"Inverse of\\n{tensor}\\n  is:\\n{tensor.inverse()}\")"
   ]
  },
  {
   "cell_type": "markdown",
   "id": "d62e080c",
   "metadata": {},
   "source": [
    "**Note.** A legitim question at this point is that *\"under what circumstances the determinant and inverse can be thought of as useful measures of input data?\"*. In fact, these become more relevant once the tensor is thought of as a multilinear mapping or in an overly simplified manner as a state transition expression. The determinant helps understanding enlargening/shrinking effects while the inverse can be considered a reversal of transition."
   ]
  },
  {
   "cell_type": "markdown",
   "id": "24f9826f",
   "metadata": {},
   "source": [
    "Comparison is understood pontwise between tensors of identical shape. It is also possible to compare against scalars."
   ]
  },
  {
   "cell_type": "code",
   "execution_count": 16,
   "id": "5b13d2ee",
   "metadata": {},
   "outputs": [
    {
     "name": "stdout",
     "output_type": "stream",
     "text": [
      "Positions where\n",
      "tensor([[0., 0., 0.],\n",
      "        [0., 0., 0.]])\n",
      "  is less than\n",
      "tensor([[1., 1., 1.],\n",
      "        [1., 1., 1.]])\n",
      "  are:\n",
      "tensor([[True, True, True],\n",
      "        [True, True, True]])\n",
      "\n",
      "Positions where\n",
      "tensor([[0., 0., 0.],\n",
      "        [0., 0., 0.]])\n",
      "  is greater than\n",
      "tensor([[1., 1., 1.],\n",
      "        [1., 1., 1.]])\n",
      "  are:\n",
      "tensor([[False, False, False],\n",
      "        [False, False, False]])\n",
      "\n",
      "Positions where\n",
      "tensor([[0., 0., 0.],\n",
      "        [0., 0., 0.]])\n",
      "  is equal to\n",
      "tensor([[1., 1., 1.],\n",
      "        [1., 1., 1.]])\n",
      "  are:\n",
      "tensor([[False, False, False],\n",
      "        [False, False, False]])\n",
      "\n",
      "Positions where\n",
      "tensor([[0., 0., 0.],\n",
      "        [0., 0., 0.]])\n",
      "  is not equal to\n",
      "tensor([[1., 1., 1.],\n",
      "        [1., 1., 1.]])\n",
      "  are:\n",
      "tensor([[True, True, True],\n",
      "        [True, True, True]])\n",
      "\n"
     ]
    }
   ],
   "source": [
    "print(f\"Positions where\\n{zeros}\\n  is less than\\n{transponent}\\n  are:\\n{zeros < transponent}\")\n",
    "print()\n",
    "print(f\"Positions where\\n{zeros}\\n  is greater than\\n{transponent}\\n  are:\\n{zeros > transponent}\")\n",
    "print()\n",
    "print(f\"Positions where\\n{zeros}\\n  is equal to\\n{transponent}\\n  are:\\n{zeros == transponent}\")\n",
    "print()\n",
    "print(f\"Positions where\\n{zeros}\\n  is not equal to\\n{transponent}\\n  are:\\n{zeros != transponent}\")\n",
    "print()"
   ]
  },
  {
   "cell_type": "markdown",
   "id": "7b1089db",
   "metadata": {},
   "source": [
    "Boolean operations apply pointwise too; the boolean value of tensors themselves are ambiguous."
   ]
  },
  {
   "cell_type": "code",
   "execution_count": 17,
   "id": "887a3553",
   "metadata": {},
   "outputs": [
    {
     "name": "stdout",
     "output_type": "stream",
     "text": [
      "Positions where\n",
      "tensor([[0, 1, 2],\n",
      "        [3, 4, 5],\n",
      "        [6, 7, 8]])\n",
      "  is less than 3 or larger than 6 are\n",
      "tensor([[ True,  True,  True],\n",
      "        [False, False, False],\n",
      "        [False,  True,  True]])\n",
      "\n",
      "Positions where\n",
      "tensor([[0, 1, 2],\n",
      "        [3, 4, 5],\n",
      "        [6, 7, 8]])\n",
      "  is less than 6 and larger than 3 are\n",
      "tensor([[False, False, False],\n",
      "        [False,  True,  True],\n",
      "        [False, False, False]])\n",
      "\n",
      "Positions where\n",
      "tensor([[0, 1, 2],\n",
      "        [3, 4, 5],\n",
      "        [6, 7, 8]])\n",
      "  is less than or equal to 3 or larger than or equal to 6\n",
      "tensor([[ True,  True,  True],\n",
      "        [ True, False, False],\n",
      "        [ True,  True,  True]])\n"
     ]
    }
   ],
   "source": [
    "tensor = torch.arange(9).reshape(3, 3)\n",
    "print(f\"Positions where\\n{tensor}\\n  is less than 3 or larger than 6 are\\n{(tensor < 3) | (tensor > 6)}\")\n",
    "print()\n",
    "print(f\"Positions where\\n{tensor}\\n  is less than 6 and larger than 3 are\\n{(tensor > 3) & (tensor < 6)}\")\n",
    "print()\n",
    "print(f\"Positions where\\n{tensor}\\n  is less than or equal to 3 or larger than or equal to 6\\n{~((tensor > 3) & (tensor < 6))}\")"
   ]
  },
  {
   "cell_type": "markdown",
   "id": "e7b187c2",
   "metadata": {},
   "source": [
    "### Stochastic tensor constructors\n",
    "\n",
    "Often times, we need to sample values of a tensor from some probability distribution. PyTorch offers stochastic constructors for many common distributions."
   ]
  },
  {
   "cell_type": "code",
   "execution_count": 18,
   "id": "c606e0ff",
   "metadata": {},
   "outputs": [
    {
     "name": "stdout",
     "output_type": "stream",
     "text": [
      "tensor([[[0.0343, 0.0736, 0.4920, 0.2369],\n",
      "         [0.8754, 0.5869, 0.9185, 0.4064],\n",
      "         [0.0527, 0.5695, 0.3841, 0.9783]],\n",
      "\n",
      "        [[0.4508, 0.6463, 0.4456, 0.4547],\n",
      "         [0.2985, 0.6598, 0.8246, 0.0016],\n",
      "         [0.9147, 0.9897, 0.2439, 0.5534]]])\n"
     ]
    }
   ],
   "source": [
    "uniform_tensor = torch.rand(2, 3, 4)\n",
    "print(uniform_tensor)"
   ]
  },
  {
   "cell_type": "code",
   "execution_count": 19,
   "id": "0b6a7728",
   "metadata": {},
   "outputs": [
    {
     "name": "stdout",
     "output_type": "stream",
     "text": [
      "tensor([[0., 0., 1., 0., 0., 0., 1., 0., 0., 0.],\n",
      "        [0., 1., 1., 0., 1., 1., 0., 1., 0., 0.],\n",
      "        [1., 0., 0., 0., 1., 1., 1., 1., 0., 1.],\n",
      "        [1., 1., 1., 1., 0., 0., 1., 1., 0., 0.],\n",
      "        [1., 1., 0., 0., 1., 1., 0., 0., 1., 0.],\n",
      "        [1., 0., 1., 0., 0., 1., 1., 1., 1., 1.],\n",
      "        [1., 0., 0., 1., 1., 1., 1., 0., 1., 0.],\n",
      "        [0., 0., 0., 0., 1., 1., 0., 0., 0., 1.],\n",
      "        [0., 1., 1., 1., 0., 1., 0., 0., 0., 1.],\n",
      "        [1., 1., 1., 1., 1., 0., 1., 0., 0., 0.]])\n"
     ]
    }
   ],
   "source": [
    "# Unconventional constructor using an pointwise free p parameter\n",
    "# It does have to do with Markov-chains and evolutionary processes\n",
    "bernoulli_tensor = torch.bernoulli(\n",
    "    0.5 * torch.ones((10, 10))  # Fix p to be 0.5 across all the sampling\n",
    ")\n",
    "print(bernoulli_tensor)"
   ]
  },
  {
   "cell_type": "code",
   "execution_count": 20,
   "id": "ed37f336",
   "metadata": {},
   "outputs": [
    {
     "name": "stdout",
     "output_type": "stream",
     "text": [
      "tensor([[ 0.3549, -1.1250, -0.5727,  0.8278, -1.5543],\n",
      "        [ 0.7146,  0.4246,  0.0951, -2.0643,  0.6043],\n",
      "        [-0.6418,  0.1732,  1.7667, -0.9364,  1.6831],\n",
      "        [ 0.1733,  0.0926,  0.2587,  0.3330,  0.9125],\n",
      "        [ 0.7031, -0.7644, -0.3961,  1.0228,  0.6673]])\n"
     ]
    }
   ],
   "source": [
    "gaussian_tensor = torch.normal(0, 1, (5, 5))\n",
    "print(gaussian_tensor)"
   ]
  },
  {
   "cell_type": "code",
   "execution_count": 21,
   "id": "c2ec913b",
   "metadata": {},
   "outputs": [
    {
     "name": "stdout",
     "output_type": "stream",
     "text": [
      "tensor([[1., 1., 3., 0., 0.],\n",
      "        [2., 2., 1., 0., 1.],\n",
      "        [1., 0., 1., 0., 2.],\n",
      "        [1., 1., 1., 0., 0.],\n",
      "        [1., 1., 0., 1., 2.]])\n"
     ]
    }
   ],
   "source": [
    "# Same comment applies as for Bernoulli sampling\n",
    "poisson_tensor = torch.poisson(\n",
    "    torch.ones((5, 5))  # Fix lambda to be 1 across all the sampling\n",
    ")\n",
    "print(poisson_tensor)"
   ]
  },
  {
   "cell_type": "markdown",
   "id": "a848b540",
   "metadata": {},
   "source": [
    "In case sampling scenarios are to be repeated, the random seed can be fixed to ensure identical outputs. Note that the seed moves away during each sampling according to the generator process and needs to be reset."
   ]
  },
  {
   "cell_type": "code",
   "execution_count": 22,
   "id": "533fe433",
   "metadata": {},
   "outputs": [
    {
     "name": "stdout",
     "output_type": "stream",
     "text": [
      "tensor([[0.7576, 0.2793, 0.4031],\n",
      "        [0.7347, 0.0293, 0.7999],\n",
      "        [0.3971, 0.7544, 0.5695]])\n",
      "tensor([[0.7576, 0.2793, 0.4031],\n",
      "        [0.7347, 0.0293, 0.7999],\n",
      "        [0.3971, 0.7544, 0.5695]])\n",
      "tensor([[0.7576, 0.2793, 0.4031],\n",
      "        [0.7347, 0.0293, 0.7999],\n",
      "        [0.3971, 0.7544, 0.5695]])\n"
     ]
    }
   ],
   "source": [
    "def reset_seed():\n",
    "    torch.manual_seed(seed=1)\n",
    "\n",
    "reset_seed()\n",
    "print(torch.rand(3, 3))\n",
    "reset_seed()\n",
    "print(torch.rand(3, 3))\n",
    "reset_seed()\n",
    "print(torch.rand(3, 3))"
   ]
  },
  {
   "cell_type": "markdown",
   "id": "bc592c22",
   "metadata": {},
   "source": [
    "### Indexing\n",
    "\n",
    "Tensors implement the standard accessors by position: explicit indexing in one or multiple dimensions and slicing."
   ]
  },
  {
   "cell_type": "code",
   "execution_count": 50,
   "id": "013fd8b5",
   "metadata": {},
   "outputs": [
    {
     "name": "stdout",
     "output_type": "stream",
     "text": [
      "Tensor example used is:\n",
      "tensor([[[ 0,  1,  2,  3],\n",
      "         [ 4,  5,  6,  7],\n",
      "         [ 8,  9, 10, 11]],\n",
      "\n",
      "        [[12, 13, 14, 15],\n",
      "         [16, 17, 18, 19],\n",
      "         [20, 21, 22, 23]]])\n",
      "We are going to think along x, y, and z axes respectively.\n",
      "\n",
      "Accessing first element along axis x:\n",
      "tensor([[ 0,  1,  2,  3],\n",
      "        [ 4,  5,  6,  7],\n",
      "        [ 8,  9, 10, 11]])\n",
      "\n",
      "Accessing first element along axis y:\n",
      "tensor([[ 0,  1,  2,  3],\n",
      "        [12, 13, 14, 15]])\n",
      "\n",
      "Accessing first element along axis z:\n",
      "tensor([[ 0,  4,  8],\n",
      "        [12, 16, 20]])\n",
      "\n",
      "Accessing first element along axis x and y:\n",
      "tensor([0, 1, 2, 3])\n",
      "\n",
      "Accessing first element along axis x and z:\n",
      "tensor([0, 4, 8])\n",
      "\n",
      "Accessing first element along axis y and z:\n",
      "tensor([ 0, 12])\n",
      "\n",
      "Accessing first element along axis x, second and third along y:\n",
      "tensor([[ 4,  5,  6,  7],\n",
      "        [ 8,  9, 10, 11]])\n"
     ]
    }
   ],
   "source": [
    "tensor = torch.arange(24).reshape(2, 3, 4)\n",
    "print(f\"Tensor example used is:\\n{tensor}\\nWe are going to think along x, y, and z axes respectively.\")\n",
    "print()\n",
    "print(f\"Accessing first element along axis x:\\n{tensor[0]}\")\n",
    "print()\n",
    "print(f\"Accessing first element along axis y:\\n{tensor[:, 0]}\")\n",
    "print()\n",
    "print(f\"Accessing first element along axis z:\\n{tensor[:, :, 0]}\")\n",
    "print()\n",
    "print(f\"Accessing first element along axis x and y:\\n{tensor[0, 0]}\")\n",
    "print()\n",
    "print(f\"Accessing first element along axis x and z:\\n{tensor[0, :, 0]}\")\n",
    "print()\n",
    "print(f\"Accessing first element along axis y and z:\\n{tensor[:, 0, 0]}\")\n",
    "print()\n",
    "print(f\"Accessing first element along axis x, second and third along y:\\n{tensor[0, 1:]}\")"
   ]
  },
  {
   "cell_type": "markdown",
   "id": "ca1312d8",
   "metadata": {},
   "source": [
    "In addition, tensors support boolean masking like NumPy arrays and Pandas dataframes."
   ]
  },
  {
   "cell_type": "code",
   "execution_count": 55,
   "id": "b607b700",
   "metadata": {},
   "outputs": [
    {
     "name": "stdout",
     "output_type": "stream",
     "text": [
      "Tensor example used is:\n",
      "tensor([[[-0.5007,  0.1164, -0.7695],\n",
      "         [ 2.2969, -0.2332,  0.4124],\n",
      "         [-1.2673,  1.5329,  1.4025]],\n",
      "\n",
      "        [[ 0.8013, -0.5650, -0.9675],\n",
      "         [-1.8558,  0.3900,  0.8584],\n",
      "         [ 0.6327, -0.0534,  0.1181]],\n",
      "\n",
      "        [[ 1.3405, -0.3490, -0.4198],\n",
      "         [ 1.0553, -0.6366,  1.6225],\n",
      "         [ 0.2911,  0.0630,  0.0171]]])\n",
      "\n",
      "Elements less than 0 are:\n",
      "tensor([-0.5007, -0.7695, -0.2332, -1.2673, -0.5650, -0.9675, -1.8558, -0.0534,\n",
      "        -0.3490, -0.4198, -0.6366])\n",
      "\n",
      "Elements between -1 and 1:\n",
      "tensor([-0.5007,  0.1164, -0.7695, -0.2332,  0.4124,  0.8013, -0.5650, -0.9675,\n",
      "         0.3900,  0.8584,  0.6327, -0.0534,  0.1181, -0.3490, -0.4198, -0.6366,\n",
      "         0.2911,  0.0630,  0.0171])\n"
     ]
    }
   ],
   "source": [
    "tensor = torch.normal(0, 1, (3, 3, 3))\n",
    "print(f\"Tensor example used is:\\n{tensor}\")\n",
    "print()\n",
    "print(f\"Elements less than 0 are:\\n{tensor[tensor < 0]}\")\n",
    "print()\n",
    "print(f\"Elements between -1 and 1:\\n{tensor[(-1 < tensor) & (tensor < 1)]}\")"
   ]
  },
  {
   "cell_type": "markdown",
   "id": "b2e5411f",
   "metadata": {},
   "source": [
    "### Aggregation\n",
    "\n",
    "Since tensors are used for representation of input data, in many scenarios, we are interested in aggregate measures, more precisely statistics, along various axes. Most common descriptives are implemented as methods of `Tensor` objects. Note that some aggregates return a corresponding type that is more of a view with a tensor of indices supplementing it (for instance, minimum, maximum, median, etc...)."
   ]
  },
  {
   "cell_type": "code",
   "execution_count": 49,
   "id": "b29e9da9",
   "metadata": {},
   "outputs": [
    {
     "name": "stdout",
     "output_type": "stream",
     "text": [
      "Tensor example used is:\n",
      "tensor([[[-1.1509e+00,  9.6896e-01, -2.6251e+00,  1.9025e+00,  2.8895e-01],\n",
      "         [ 1.1787e+00,  1.0630e+00, -4.8261e-01, -3.8114e-01, -8.3449e-02],\n",
      "         [-4.4002e-01,  6.6888e-01, -1.8674e+00, -3.9340e-01, -5.9160e-01],\n",
      "         [-7.2037e-02, -1.2035e+00, -1.3180e+00,  2.4631e-01,  7.9623e-01],\n",
      "         [ 1.2749e+00,  1.5626e-01,  2.4801e+00,  5.9284e-01,  5.9499e-01]],\n",
      "\n",
      "        [[-4.8542e-02,  7.9916e-01, -6.9276e-01, -1.7733e+00,  1.2558e+00],\n",
      "         [-9.7308e-01, -1.2769e-01, -1.7656e-01,  7.2515e-01, -3.1347e+00],\n",
      "         [ 6.2105e-01, -1.0342e+00, -5.6700e-01, -8.3042e-01, -1.3737e-01],\n",
      "         [-6.5589e-01, -8.9030e-01,  1.7062e+00,  8.0476e-04, -1.6036e-01],\n",
      "         [ 1.4063e-01, -1.8038e+00, -1.3119e+00, -7.3711e-01, -8.1172e-01]],\n",
      "\n",
      "        [[ 1.8271e+00, -1.1269e+00, -1.3796e+00,  1.2199e+00,  1.6074e+00],\n",
      "         [ 5.3705e-01, -1.8889e-01, -2.5139e-01,  1.9611e-01, -8.8677e-01],\n",
      "         [ 5.7864e-02, -1.0375e+00,  2.3136e-01, -1.0128e-01, -1.9014e-01],\n",
      "         [-1.4171e+00,  4.7640e-01,  1.5593e-01,  7.2339e-01, -5.9928e-01],\n",
      "         [ 3.9051e-02, -1.2571e+00, -7.4393e-01, -1.0757e+00,  1.9606e+00]],\n",
      "\n",
      "        [[-1.0621e+00, -1.9144e-01,  8.4851e-01, -6.4452e-01,  2.6411e-01],\n",
      "         [-1.5543e+00, -4.9411e-01, -2.0498e-02, -1.1385e+00, -2.7938e-01],\n",
      "         [ 1.2453e+00,  2.2576e+00, -1.0120e+00, -4.7121e-02, -2.5583e-01],\n",
      "         [ 3.8896e-01,  1.8459e-01, -2.9309e-01, -8.5375e-01,  1.3385e+00],\n",
      "         [ 6.3015e-02, -2.5106e-01, -1.0991e+00, -5.8921e-01,  8.0698e-01]],\n",
      "\n",
      "        [[ 1.7520e+00, -5.5929e-01,  2.6977e-01,  8.8957e-01,  3.6079e-01],\n",
      "         [-9.3221e-02, -9.9351e-01, -1.9497e-01,  4.6611e-01, -1.1051e-01],\n",
      "         [-2.1253e+00, -7.1837e-01,  5.5761e-02, -2.0173e-01,  1.4740e+00],\n",
      "         [-3.5214e-01,  6.1358e-01, -1.0703e+00, -8.8236e-01, -4.9339e-01],\n",
      "         [-6.0661e-01, -1.4025e+00,  1.8263e+00,  1.0262e+00, -9.4612e-01]]])\n",
      "\n",
      "Mean across all three axes is:\n",
      "-0.11713986098766327\n",
      "\n",
      "Means across x axis are:\n",
      "tensor([[ 0.2635, -0.0219, -0.7158,  0.3188,  0.7554],\n",
      "        [-0.1810, -0.1482, -0.2252, -0.0265, -0.8990],\n",
      "        [-0.1282,  0.0273, -0.6319, -0.3148,  0.0598],\n",
      "        [-0.4216, -0.1638, -0.1638, -0.1531,  0.1763],\n",
      "        [ 0.1822, -0.9116,  0.2303, -0.1566,  0.3209]])\n",
      "\n",
      "Maximums across y axis are:\n",
      "torch.return_types.max(\n",
      "values=tensor([[ 1.2749,  1.0630,  2.4801,  1.9025,  0.7962],\n",
      "        [ 0.6211,  0.7992,  1.7062,  0.7251,  1.2558],\n",
      "        [ 1.8271,  0.4764,  0.2314,  1.2199,  1.9606],\n",
      "        [ 1.2453,  2.2576,  0.8485, -0.0471,  1.3385],\n",
      "        [ 1.7520,  0.6136,  1.8263,  1.0262,  1.4740]]),\n",
      "indices=tensor([[4, 1, 4, 0, 3],\n",
      "        [2, 0, 3, 1, 0],\n",
      "        [0, 3, 2, 0, 4],\n",
      "        [2, 2, 0, 2, 3],\n",
      "        [0, 3, 4, 4, 2]]))\n",
      "\n",
      "Minimums across z axis are:\n",
      "torch.return_types.min(\n",
      "values=tensor([[-2.6251, -0.4826, -1.8674, -1.3180,  0.1563],\n",
      "        [-1.7733, -3.1347, -1.0342, -0.8903, -1.8038],\n",
      "        [-1.3796, -0.8868, -1.0375, -1.4171, -1.2571],\n",
      "        [-1.0621, -1.5543, -1.0120, -0.8538, -1.0991],\n",
      "        [-0.5593, -0.9935, -2.1253, -1.0703, -1.4025]]),\n",
      "indices=tensor([[2, 2, 2, 2, 1],\n",
      "        [3, 4, 1, 1, 1],\n",
      "        [2, 4, 1, 0, 1],\n",
      "        [0, 0, 2, 3, 2],\n",
      "        [1, 1, 0, 2, 1]]))\n",
      "\n",
      "Standard deviations across x and y axes are:\n",
      "tensor([1.0251, 0.9596, 1.1534, 0.8663, 1.0623])\n",
      "\n",
      "Medians across x and z axes are:\n",
      "torch.return_types.median(\n",
      "values=tensor([-0.0485, -0.1889, -0.2017, -0.1604, -0.5892]),\n",
      "indices=tensor([0, 1, 3, 4, 3]))\n",
      "\n",
      "Cummulative sums across y and z axes are:\n",
      "tensor([[-1.1509, -0.1820, -2.8070, -0.9045, -0.6156],\n",
      "        [ 0.0278,  2.0597, -1.0480,  0.4734,  0.6789],\n",
      "        [-0.4123,  2.2886, -2.6865, -1.5586, -1.9447],\n",
      "        [-0.4843,  1.0130, -5.2800, -3.9058, -3.4956],\n",
      "        [ 0.7906,  2.4441, -1.3688,  0.5983,  1.6034]])\n",
      "\n"
     ]
    }
   ],
   "source": [
    "sample = torch.normal(0, 1, (5, 5, 5))\n",
    "\n",
    "print(f\"Tensor example used is:\\n{sample}\")\n",
    "print()\n",
    "print(f\"Mean across all three axes is:\\n{sample.mean()}\")\n",
    "print()\n",
    "print(f\"Means across x axis are:\\n{sample.mean(0)}\")\n",
    "print()\n",
    "print(f\"Maximums across y axis are:\\n{sample.max((1))}\")\n",
    "print()\n",
    "print(f\"Minimums across z axis are:\\n{sample.min(2)}\")\n",
    "print()\n",
    "print(f\"Standard deviations across x and y axes are:\\n{sample.std((0, 1))}\")\n",
    "print()\n",
    "print(f\"Medians across x and z axes are:\\n{sample.median((0))[0].median(1)}\")\n",
    "print()\n",
    "print(f\"Cummulative sums across y and z axes are:\\n{sample.cumsum(1)[0].cumsum(1)}\")\n",
    "print()"
   ]
  },
  {
   "cell_type": "markdown",
   "id": "ad80ffb9",
   "metadata": {},
   "source": [
    "### CPU vs. GPU\n",
    "\n",
    "When a GPU is available, then ideally, we should be able to leverage it for computation. This requires the tensor to be stored on the GPU device rather than the CPU which is the default."
   ]
  },
  {
   "cell_type": "code",
   "execution_count": 56,
   "id": "91011884",
   "metadata": {},
   "outputs": [
    {
     "name": "stdout",
     "output_type": "stream",
     "text": [
      "cuda\n"
     ]
    }
   ],
   "source": [
    "DEVICE = \"cuda\" if torch.cuda.is_available() else \"cpu\"\n",
    "print(DEVICE)"
   ]
  },
  {
   "cell_type": "code",
   "execution_count": 60,
   "id": "cfed9a47",
   "metadata": {},
   "outputs": [
    {
     "name": "stdout",
     "output_type": "stream",
     "text": [
      "Tensor\n",
      "tensor([[0.5569, 0.7303, 0.7923],\n",
      "        [0.9384, 0.1551, 0.6396],\n",
      "        [0.0666, 0.6861, 0.2434]])\n",
      "  is stored on cpu.\n",
      "\n",
      "Tensor\n",
      "tensor([[0.5569, 0.7303, 0.7923],\n",
      "        [0.9384, 0.1551, 0.6396],\n",
      "        [0.0666, 0.6861, 0.2434]])\n",
      "  is stored on cuda:0.\n",
      "\n"
     ]
    },
    {
     "data": {
      "text/plain": [
       "device(type='cuda', index=0)"
      ]
     },
     "execution_count": 60,
     "metadata": {},
     "output_type": "execute_result"
    }
   ],
   "source": [
    "tensor_on_cpu = torch.rand(3, 3)\n",
    "tensor_on_gpu = torch.rand(3, 3, device=DEVICE)\n",
    "print(f\"Tensor\\n{tensor_on_cpu}\\n  is stored on {tensor_on_cpu.device}.\")\n",
    "print()\n",
    "print(f\"Tensor\\n{tensor_on_cpu}\\n  is stored on {tensor_on_gpu.device}.\")\n",
    "print()\n",
    "print(f\"We can also move between the devices with `.to(<device>)`tensor_on_cpu.to(DEVICE).device"
   ]
  },
  {
   "cell_type": "markdown",
   "id": "ba2ca1ea",
   "metadata": {},
   "source": [
    "### References\n",
    "\n",
    "[1] Learn PyTorch for Deep Learning: Zero to Mastery book, accessed online on 2023.03.25.\n",
    "\n",
    "[2] Papers with Code trends, accessed online on 2023.03.25."
   ]
  }
 ],
 "metadata": {
  "kernelspec": {
   "display_name": "Python 3 (ipykernel)",
   "language": "python",
   "name": "python3"
  },
  "language_info": {
   "codemirror_mode": {
    "name": "ipython",
    "version": 3
   },
   "file_extension": ".py",
   "mimetype": "text/x-python",
   "name": "python",
   "nbconvert_exporter": "python",
   "pygments_lexer": "ipython3",
   "version": "3.11.2"
  }
 },
 "nbformat": 4,
 "nbformat_minor": 5
}
